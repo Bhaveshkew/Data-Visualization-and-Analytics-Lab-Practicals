{
 "cells": [
  {
   "cell_type": "markdown",
   "id": "7e410cff",
   "metadata": {},
   "source": [
    "# Part - A Data Preprocessing"
   ]
  },
  {
   "cell_type": "markdown",
   "id": "e0c6351c",
   "metadata": {},
   "source": [
    "#### Importing libraries and datasets"
   ]
  },
  {
   "cell_type": "code",
   "execution_count": 1,
   "id": "5d1b8b29",
   "metadata": {},
   "outputs": [],
   "source": [
    "import numpy as np\n",
    "import pandas as pd\n",
    "import matplotlib.pyplot as plt\n",
    "import seaborn as sns"
   ]
  },
  {
   "cell_type": "markdown",
   "id": "4127436a",
   "metadata": {},
   "source": [
    "## 1. Read the three csv files which contains the score of same students in term1 for each Subject"
   ]
  },
  {
   "cell_type": "code",
   "execution_count": 2,
   "id": "f8cf99ee",
   "metadata": {},
   "outputs": [],
   "source": [
    "math_score = pd.read_csv('MathScoreTerm1.csv')\n",
    "ds_score = pd.read_csv('DSScoreTerm1.csv')\n",
    "physics_score = pd.read_csv('PhysicsScoreTerm1.csv')"
   ]
  },
  {
   "cell_type": "code",
   "execution_count": 3,
   "id": "90843069",
   "metadata": {},
   "outputs": [
    {
     "data": {
      "text/html": [
       "<div>\n",
       "<style scoped>\n",
       "    .dataframe tbody tr th:only-of-type {\n",
       "        vertical-align: middle;\n",
       "    }\n",
       "\n",
       "    .dataframe tbody tr th {\n",
       "        vertical-align: top;\n",
       "    }\n",
       "\n",
       "    .dataframe thead th {\n",
       "        text-align: right;\n",
       "    }\n",
       "</style>\n",
       "<table border=\"1\" class=\"dataframe\">\n",
       "  <thead>\n",
       "    <tr style=\"text-align: right;\">\n",
       "      <th></th>\n",
       "      <th>Name</th>\n",
       "      <th>Score</th>\n",
       "      <th>Age</th>\n",
       "      <th>Ethinicity</th>\n",
       "      <th>Subject</th>\n",
       "      <th>Sex</th>\n",
       "      <th>ID</th>\n",
       "    </tr>\n",
       "  </thead>\n",
       "  <tbody>\n",
       "    <tr>\n",
       "      <th>0</th>\n",
       "      <td>AI-KYUNG CHUNG</td>\n",
       "      <td>88.0</td>\n",
       "      <td>18</td>\n",
       "      <td>White American</td>\n",
       "      <td>Maths</td>\n",
       "      <td>M</td>\n",
       "      <td>1</td>\n",
       "    </tr>\n",
       "    <tr>\n",
       "      <th>1</th>\n",
       "      <td>ALAN HARVEY</td>\n",
       "      <td>85.0</td>\n",
       "      <td>19</td>\n",
       "      <td>European American</td>\n",
       "      <td>Maths</td>\n",
       "      <td>M</td>\n",
       "      <td>2</td>\n",
       "    </tr>\n",
       "    <tr>\n",
       "      <th>2</th>\n",
       "      <td>ALAN REYNAUD</td>\n",
       "      <td>45.0</td>\n",
       "      <td>19</td>\n",
       "      <td>European American</td>\n",
       "      <td>Maths</td>\n",
       "      <td>M</td>\n",
       "      <td>3</td>\n",
       "    </tr>\n",
       "    <tr>\n",
       "      <th>3</th>\n",
       "      <td>ALBERT CENDANA</td>\n",
       "      <td>82.0</td>\n",
       "      <td>18</td>\n",
       "      <td>White American</td>\n",
       "      <td>Maths</td>\n",
       "      <td>M</td>\n",
       "      <td>4</td>\n",
       "    </tr>\n",
       "    <tr>\n",
       "      <th>4</th>\n",
       "      <td>ALBERT HOLT JR</td>\n",
       "      <td>82.0</td>\n",
       "      <td>18</td>\n",
       "      <td>White American</td>\n",
       "      <td>Maths</td>\n",
       "      <td>F</td>\n",
       "      <td>5</td>\n",
       "    </tr>\n",
       "  </tbody>\n",
       "</table>\n",
       "</div>"
      ],
      "text/plain": [
       "             Name  Score  Age         Ethinicity Subject Sex  ID\n",
       "0  AI-KYUNG CHUNG   88.0   18     White American   Maths   M   1\n",
       "1     ALAN HARVEY   85.0   19  European American   Maths   M   2\n",
       "2    ALAN REYNAUD   45.0   19  European American   Maths   M   3\n",
       "3  ALBERT CENDANA   82.0   18     White American   Maths   M   4\n",
       "4  ALBERT HOLT JR   82.0   18     White American   Maths   F   5"
      ]
     },
     "execution_count": 3,
     "metadata": {},
     "output_type": "execute_result"
    }
   ],
   "source": [
    "math_score.head()"
   ]
  },
  {
   "cell_type": "code",
   "execution_count": 4,
   "id": "b3266b46",
   "metadata": {},
   "outputs": [
    {
     "data": {
      "text/html": [
       "<div>\n",
       "<style scoped>\n",
       "    .dataframe tbody tr th:only-of-type {\n",
       "        vertical-align: middle;\n",
       "    }\n",
       "\n",
       "    .dataframe tbody tr th {\n",
       "        vertical-align: top;\n",
       "    }\n",
       "\n",
       "    .dataframe thead th {\n",
       "        text-align: right;\n",
       "    }\n",
       "</style>\n",
       "<table border=\"1\" class=\"dataframe\">\n",
       "  <thead>\n",
       "    <tr style=\"text-align: right;\">\n",
       "      <th></th>\n",
       "      <th>Name</th>\n",
       "      <th>Score</th>\n",
       "      <th>Age</th>\n",
       "      <th>Ethinicity</th>\n",
       "      <th>Subject</th>\n",
       "      <th>Sex</th>\n",
       "      <th>ID</th>\n",
       "    </tr>\n",
       "  </thead>\n",
       "  <tbody>\n",
       "    <tr>\n",
       "      <th>0</th>\n",
       "      <td>AI-KYUNG CHUNG</td>\n",
       "      <td>82.0</td>\n",
       "      <td>18</td>\n",
       "      <td>White American</td>\n",
       "      <td>Data Structue</td>\n",
       "      <td>M</td>\n",
       "      <td>1</td>\n",
       "    </tr>\n",
       "    <tr>\n",
       "      <th>1</th>\n",
       "      <td>ALAN HARVEY</td>\n",
       "      <td>79.0</td>\n",
       "      <td>19</td>\n",
       "      <td>European American</td>\n",
       "      <td>Data Structue</td>\n",
       "      <td>M</td>\n",
       "      <td>2</td>\n",
       "    </tr>\n",
       "    <tr>\n",
       "      <th>2</th>\n",
       "      <td>ALAN REYNAUD</td>\n",
       "      <td>39.0</td>\n",
       "      <td>19</td>\n",
       "      <td>European American</td>\n",
       "      <td>Data Structue</td>\n",
       "      <td>M</td>\n",
       "      <td>3</td>\n",
       "    </tr>\n",
       "    <tr>\n",
       "      <th>3</th>\n",
       "      <td>ALBERT CENDANA</td>\n",
       "      <td>76.0</td>\n",
       "      <td>18</td>\n",
       "      <td>White American</td>\n",
       "      <td>Data Structue</td>\n",
       "      <td>M</td>\n",
       "      <td>4</td>\n",
       "    </tr>\n",
       "    <tr>\n",
       "      <th>4</th>\n",
       "      <td>ALBERT HOLT JR</td>\n",
       "      <td>76.0</td>\n",
       "      <td>18</td>\n",
       "      <td>White American</td>\n",
       "      <td>Data Structue</td>\n",
       "      <td>F</td>\n",
       "      <td>5</td>\n",
       "    </tr>\n",
       "  </tbody>\n",
       "</table>\n",
       "</div>"
      ],
      "text/plain": [
       "             Name  Score  Age         Ethinicity        Subject Sex  ID\n",
       "0  AI-KYUNG CHUNG   82.0   18     White American  Data Structue   M   1\n",
       "1     ALAN HARVEY   79.0   19  European American  Data Structue   M   2\n",
       "2    ALAN REYNAUD   39.0   19  European American  Data Structue   M   3\n",
       "3  ALBERT CENDANA   76.0   18     White American  Data Structue   M   4\n",
       "4  ALBERT HOLT JR   76.0   18     White American  Data Structue   F   5"
      ]
     },
     "execution_count": 4,
     "metadata": {},
     "output_type": "execute_result"
    }
   ],
   "source": [
    "ds_score.head()"
   ]
  },
  {
   "cell_type": "code",
   "execution_count": 5,
   "id": "1ca9be17",
   "metadata": {},
   "outputs": [
    {
     "data": {
      "text/html": [
       "<div>\n",
       "<style scoped>\n",
       "    .dataframe tbody tr th:only-of-type {\n",
       "        vertical-align: middle;\n",
       "    }\n",
       "\n",
       "    .dataframe tbody tr th {\n",
       "        vertical-align: top;\n",
       "    }\n",
       "\n",
       "    .dataframe thead th {\n",
       "        text-align: right;\n",
       "    }\n",
       "</style>\n",
       "<table border=\"1\" class=\"dataframe\">\n",
       "  <thead>\n",
       "    <tr style=\"text-align: right;\">\n",
       "      <th></th>\n",
       "      <th>Name</th>\n",
       "      <th>Score</th>\n",
       "      <th>Age</th>\n",
       "      <th>Ethinicity</th>\n",
       "      <th>Subject</th>\n",
       "      <th>Sex</th>\n",
       "      <th>ID</th>\n",
       "    </tr>\n",
       "  </thead>\n",
       "  <tbody>\n",
       "    <tr>\n",
       "      <th>0</th>\n",
       "      <td>AI-KYUNG CHUNG</td>\n",
       "      <td>84.0</td>\n",
       "      <td>18</td>\n",
       "      <td>White American</td>\n",
       "      <td>Physics</td>\n",
       "      <td>M</td>\n",
       "      <td>1</td>\n",
       "    </tr>\n",
       "    <tr>\n",
       "      <th>1</th>\n",
       "      <td>ALAN HARVEY</td>\n",
       "      <td>81.0</td>\n",
       "      <td>19</td>\n",
       "      <td>European American</td>\n",
       "      <td>Physics</td>\n",
       "      <td>M</td>\n",
       "      <td>2</td>\n",
       "    </tr>\n",
       "    <tr>\n",
       "      <th>2</th>\n",
       "      <td>ALAN REYNAUD</td>\n",
       "      <td>41.0</td>\n",
       "      <td>19</td>\n",
       "      <td>European American</td>\n",
       "      <td>Physics</td>\n",
       "      <td>M</td>\n",
       "      <td>3</td>\n",
       "    </tr>\n",
       "    <tr>\n",
       "      <th>3</th>\n",
       "      <td>ALBERT CENDANA</td>\n",
       "      <td>78.0</td>\n",
       "      <td>18</td>\n",
       "      <td>White American</td>\n",
       "      <td>Physics</td>\n",
       "      <td>M</td>\n",
       "      <td>4</td>\n",
       "    </tr>\n",
       "    <tr>\n",
       "      <th>4</th>\n",
       "      <td>ALBERT HOLT JR</td>\n",
       "      <td>78.0</td>\n",
       "      <td>18</td>\n",
       "      <td>White American</td>\n",
       "      <td>Physics</td>\n",
       "      <td>F</td>\n",
       "      <td>5</td>\n",
       "    </tr>\n",
       "  </tbody>\n",
       "</table>\n",
       "</div>"
      ],
      "text/plain": [
       "             Name  Score  Age         Ethinicity  Subject Sex  ID\n",
       "0  AI-KYUNG CHUNG   84.0   18     White American  Physics   M   1\n",
       "1     ALAN HARVEY   81.0   19  European American  Physics   M   2\n",
       "2    ALAN REYNAUD   41.0   19  European American  Physics   M   3\n",
       "3  ALBERT CENDANA   78.0   18     White American  Physics   M   4\n",
       "4  ALBERT HOLT JR   78.0   18     White American  Physics   F   5"
      ]
     },
     "execution_count": 5,
     "metadata": {},
     "output_type": "execute_result"
    }
   ],
   "source": [
    "physics_score.head()"
   ]
  },
  {
   "cell_type": "code",
   "execution_count": 6,
   "id": "a4a34c8e",
   "metadata": {},
   "outputs": [
    {
     "name": "stdout",
     "output_type": "stream",
     "text": [
      "<class 'pandas.core.frame.DataFrame'>\n",
      "RangeIndex: 599 entries, 0 to 598\n",
      "Data columns (total 7 columns):\n",
      " #   Column      Non-Null Count  Dtype  \n",
      "---  ------      --------------  -----  \n",
      " 0   Name        599 non-null    object \n",
      " 1   Score       596 non-null    float64\n",
      " 2   Age         599 non-null    int64  \n",
      " 3   Ethinicity  599 non-null    object \n",
      " 4   Subject     599 non-null    object \n",
      " 5   Sex         599 non-null    object \n",
      " 6   ID          599 non-null    int64  \n",
      "dtypes: float64(1), int64(2), object(4)\n",
      "memory usage: 32.9+ KB\n"
     ]
    }
   ],
   "source": [
    "math_score.info()"
   ]
  },
  {
   "cell_type": "code",
   "execution_count": 7,
   "id": "f79aed6c",
   "metadata": {},
   "outputs": [
    {
     "name": "stdout",
     "output_type": "stream",
     "text": [
      "<class 'pandas.core.frame.DataFrame'>\n",
      "RangeIndex: 599 entries, 0 to 598\n",
      "Data columns (total 7 columns):\n",
      " #   Column      Non-Null Count  Dtype  \n",
      "---  ------      --------------  -----  \n",
      " 0   Name        599 non-null    object \n",
      " 1   Score       591 non-null    float64\n",
      " 2   Age         599 non-null    int64  \n",
      " 3   Ethinicity  599 non-null    object \n",
      " 4   Subject     599 non-null    object \n",
      " 5   Sex         599 non-null    object \n",
      " 6   ID          599 non-null    int64  \n",
      "dtypes: float64(1), int64(2), object(4)\n",
      "memory usage: 32.9+ KB\n"
     ]
    }
   ],
   "source": [
    "ds_score.info()"
   ]
  },
  {
   "cell_type": "code",
   "execution_count": 8,
   "id": "dcc9b15c",
   "metadata": {},
   "outputs": [
    {
     "name": "stdout",
     "output_type": "stream",
     "text": [
      "<class 'pandas.core.frame.DataFrame'>\n",
      "RangeIndex: 599 entries, 0 to 598\n",
      "Data columns (total 7 columns):\n",
      " #   Column      Non-Null Count  Dtype  \n",
      "---  ------      --------------  -----  \n",
      " 0   Name        599 non-null    object \n",
      " 1   Score       593 non-null    float64\n",
      " 2   Age         599 non-null    int64  \n",
      " 3   Ethinicity  599 non-null    object \n",
      " 4   Subject     599 non-null    object \n",
      " 5   Sex         599 non-null    object \n",
      " 6   ID          599 non-null    int64  \n",
      "dtypes: float64(1), int64(2), object(4)\n",
      "memory usage: 32.9+ KB\n"
     ]
    }
   ],
   "source": [
    "physics_score.info()"
   ]
  },
  {
   "cell_type": "markdown",
   "id": "ec7a9828",
   "metadata": {},
   "source": [
    "## 2. Remove the name and ethnicity column (to ensure confidentiality)"
   ]
  },
  {
   "cell_type": "code",
   "execution_count": 9,
   "id": "55b015ab",
   "metadata": {},
   "outputs": [],
   "source": [
    "math_score1 = math_score.drop(columns=['Name','Ethinicity'])\n",
    "ds_score1 = ds_score.drop(columns=['Name','Ethinicity'])\n",
    "physics_score1 = physics_score.drop(columns=['Name','Ethinicity'])"
   ]
  },
  {
   "cell_type": "code",
   "execution_count": 10,
   "id": "e7607080",
   "metadata": {},
   "outputs": [
    {
     "data": {
      "text/html": [
       "<div>\n",
       "<style scoped>\n",
       "    .dataframe tbody tr th:only-of-type {\n",
       "        vertical-align: middle;\n",
       "    }\n",
       "\n",
       "    .dataframe tbody tr th {\n",
       "        vertical-align: top;\n",
       "    }\n",
       "\n",
       "    .dataframe thead th {\n",
       "        text-align: right;\n",
       "    }\n",
       "</style>\n",
       "<table border=\"1\" class=\"dataframe\">\n",
       "  <thead>\n",
       "    <tr style=\"text-align: right;\">\n",
       "      <th></th>\n",
       "      <th>Score</th>\n",
       "      <th>Age</th>\n",
       "      <th>Subject</th>\n",
       "      <th>Sex</th>\n",
       "      <th>ID</th>\n",
       "    </tr>\n",
       "  </thead>\n",
       "  <tbody>\n",
       "    <tr>\n",
       "      <th>0</th>\n",
       "      <td>88.0</td>\n",
       "      <td>18</td>\n",
       "      <td>Maths</td>\n",
       "      <td>M</td>\n",
       "      <td>1</td>\n",
       "    </tr>\n",
       "    <tr>\n",
       "      <th>1</th>\n",
       "      <td>85.0</td>\n",
       "      <td>19</td>\n",
       "      <td>Maths</td>\n",
       "      <td>M</td>\n",
       "      <td>2</td>\n",
       "    </tr>\n",
       "    <tr>\n",
       "      <th>2</th>\n",
       "      <td>45.0</td>\n",
       "      <td>19</td>\n",
       "      <td>Maths</td>\n",
       "      <td>M</td>\n",
       "      <td>3</td>\n",
       "    </tr>\n",
       "    <tr>\n",
       "      <th>3</th>\n",
       "      <td>82.0</td>\n",
       "      <td>18</td>\n",
       "      <td>Maths</td>\n",
       "      <td>M</td>\n",
       "      <td>4</td>\n",
       "    </tr>\n",
       "    <tr>\n",
       "      <th>4</th>\n",
       "      <td>82.0</td>\n",
       "      <td>18</td>\n",
       "      <td>Maths</td>\n",
       "      <td>F</td>\n",
       "      <td>5</td>\n",
       "    </tr>\n",
       "  </tbody>\n",
       "</table>\n",
       "</div>"
      ],
      "text/plain": [
       "   Score  Age Subject Sex  ID\n",
       "0   88.0   18   Maths   M   1\n",
       "1   85.0   19   Maths   M   2\n",
       "2   45.0   19   Maths   M   3\n",
       "3   82.0   18   Maths   M   4\n",
       "4   82.0   18   Maths   F   5"
      ]
     },
     "execution_count": 10,
     "metadata": {},
     "output_type": "execute_result"
    }
   ],
   "source": [
    "math_score1.head()"
   ]
  },
  {
   "cell_type": "code",
   "execution_count": 11,
   "id": "7a8a556b",
   "metadata": {},
   "outputs": [
    {
     "data": {
      "text/html": [
       "<div>\n",
       "<style scoped>\n",
       "    .dataframe tbody tr th:only-of-type {\n",
       "        vertical-align: middle;\n",
       "    }\n",
       "\n",
       "    .dataframe tbody tr th {\n",
       "        vertical-align: top;\n",
       "    }\n",
       "\n",
       "    .dataframe thead th {\n",
       "        text-align: right;\n",
       "    }\n",
       "</style>\n",
       "<table border=\"1\" class=\"dataframe\">\n",
       "  <thead>\n",
       "    <tr style=\"text-align: right;\">\n",
       "      <th></th>\n",
       "      <th>Score</th>\n",
       "      <th>Age</th>\n",
       "      <th>Subject</th>\n",
       "      <th>Sex</th>\n",
       "      <th>ID</th>\n",
       "    </tr>\n",
       "  </thead>\n",
       "  <tbody>\n",
       "    <tr>\n",
       "      <th>0</th>\n",
       "      <td>82.0</td>\n",
       "      <td>18</td>\n",
       "      <td>Data Structue</td>\n",
       "      <td>M</td>\n",
       "      <td>1</td>\n",
       "    </tr>\n",
       "    <tr>\n",
       "      <th>1</th>\n",
       "      <td>79.0</td>\n",
       "      <td>19</td>\n",
       "      <td>Data Structue</td>\n",
       "      <td>M</td>\n",
       "      <td>2</td>\n",
       "    </tr>\n",
       "    <tr>\n",
       "      <th>2</th>\n",
       "      <td>39.0</td>\n",
       "      <td>19</td>\n",
       "      <td>Data Structue</td>\n",
       "      <td>M</td>\n",
       "      <td>3</td>\n",
       "    </tr>\n",
       "    <tr>\n",
       "      <th>3</th>\n",
       "      <td>76.0</td>\n",
       "      <td>18</td>\n",
       "      <td>Data Structue</td>\n",
       "      <td>M</td>\n",
       "      <td>4</td>\n",
       "    </tr>\n",
       "    <tr>\n",
       "      <th>4</th>\n",
       "      <td>76.0</td>\n",
       "      <td>18</td>\n",
       "      <td>Data Structue</td>\n",
       "      <td>F</td>\n",
       "      <td>5</td>\n",
       "    </tr>\n",
       "  </tbody>\n",
       "</table>\n",
       "</div>"
      ],
      "text/plain": [
       "   Score  Age        Subject Sex  ID\n",
       "0   82.0   18  Data Structue   M   1\n",
       "1   79.0   19  Data Structue   M   2\n",
       "2   39.0   19  Data Structue   M   3\n",
       "3   76.0   18  Data Structue   M   4\n",
       "4   76.0   18  Data Structue   F   5"
      ]
     },
     "execution_count": 11,
     "metadata": {},
     "output_type": "execute_result"
    }
   ],
   "source": [
    "ds_score1.head()"
   ]
  },
  {
   "cell_type": "code",
   "execution_count": 12,
   "id": "b3da183d",
   "metadata": {},
   "outputs": [
    {
     "data": {
      "text/html": [
       "<div>\n",
       "<style scoped>\n",
       "    .dataframe tbody tr th:only-of-type {\n",
       "        vertical-align: middle;\n",
       "    }\n",
       "\n",
       "    .dataframe tbody tr th {\n",
       "        vertical-align: top;\n",
       "    }\n",
       "\n",
       "    .dataframe thead th {\n",
       "        text-align: right;\n",
       "    }\n",
       "</style>\n",
       "<table border=\"1\" class=\"dataframe\">\n",
       "  <thead>\n",
       "    <tr style=\"text-align: right;\">\n",
       "      <th></th>\n",
       "      <th>Score</th>\n",
       "      <th>Age</th>\n",
       "      <th>Subject</th>\n",
       "      <th>Sex</th>\n",
       "      <th>ID</th>\n",
       "    </tr>\n",
       "  </thead>\n",
       "  <tbody>\n",
       "    <tr>\n",
       "      <th>0</th>\n",
       "      <td>84.0</td>\n",
       "      <td>18</td>\n",
       "      <td>Physics</td>\n",
       "      <td>M</td>\n",
       "      <td>1</td>\n",
       "    </tr>\n",
       "    <tr>\n",
       "      <th>1</th>\n",
       "      <td>81.0</td>\n",
       "      <td>19</td>\n",
       "      <td>Physics</td>\n",
       "      <td>M</td>\n",
       "      <td>2</td>\n",
       "    </tr>\n",
       "    <tr>\n",
       "      <th>2</th>\n",
       "      <td>41.0</td>\n",
       "      <td>19</td>\n",
       "      <td>Physics</td>\n",
       "      <td>M</td>\n",
       "      <td>3</td>\n",
       "    </tr>\n",
       "    <tr>\n",
       "      <th>3</th>\n",
       "      <td>78.0</td>\n",
       "      <td>18</td>\n",
       "      <td>Physics</td>\n",
       "      <td>M</td>\n",
       "      <td>4</td>\n",
       "    </tr>\n",
       "    <tr>\n",
       "      <th>4</th>\n",
       "      <td>78.0</td>\n",
       "      <td>18</td>\n",
       "      <td>Physics</td>\n",
       "      <td>F</td>\n",
       "      <td>5</td>\n",
       "    </tr>\n",
       "  </tbody>\n",
       "</table>\n",
       "</div>"
      ],
      "text/plain": [
       "   Score  Age  Subject Sex  ID\n",
       "0   84.0   18  Physics   M   1\n",
       "1   81.0   19  Physics   M   2\n",
       "2   41.0   19  Physics   M   3\n",
       "3   78.0   18  Physics   M   4\n",
       "4   78.0   18  Physics   F   5"
      ]
     },
     "execution_count": 12,
     "metadata": {},
     "output_type": "execute_result"
    }
   ],
   "source": [
    "physics_score1.head()"
   ]
  },
  {
   "cell_type": "markdown",
   "id": "c8dc9be3",
   "metadata": {},
   "source": [
    "## 3. Fill missing score data with zero"
   ]
  },
  {
   "cell_type": "code",
   "execution_count": 13,
   "id": "603f0ec9",
   "metadata": {},
   "outputs": [],
   "source": [
    "math_score1.fillna(0, inplace=True)\n",
    "ds_score1.fillna(0, inplace=True)\n",
    "physics_score1.fillna(0, inplace=True)"
   ]
  },
  {
   "cell_type": "markdown",
   "id": "4ad98080",
   "metadata": {},
   "source": [
    "## 4. Merge the three files"
   ]
  },
  {
   "cell_type": "code",
   "execution_count": 14,
   "id": "9856b731",
   "metadata": {},
   "outputs": [],
   "source": [
    "all_scores_merged = math_score1.merge(ds_score1, on=['ID', 'Age', 'Sex'], how='left').merge(physics_score1, on=['ID', 'Age', 'Sex'], how='left')"
   ]
  },
  {
   "cell_type": "code",
   "execution_count": 15,
   "id": "7ec490a0",
   "metadata": {},
   "outputs": [
    {
     "data": {
      "text/html": [
       "<div>\n",
       "<style scoped>\n",
       "    .dataframe tbody tr th:only-of-type {\n",
       "        vertical-align: middle;\n",
       "    }\n",
       "\n",
       "    .dataframe tbody tr th {\n",
       "        vertical-align: top;\n",
       "    }\n",
       "\n",
       "    .dataframe thead th {\n",
       "        text-align: right;\n",
       "    }\n",
       "</style>\n",
       "<table border=\"1\" class=\"dataframe\">\n",
       "  <thead>\n",
       "    <tr style=\"text-align: right;\">\n",
       "      <th></th>\n",
       "      <th>Score_x</th>\n",
       "      <th>Age</th>\n",
       "      <th>Subject_x</th>\n",
       "      <th>Sex</th>\n",
       "      <th>ID</th>\n",
       "      <th>Score_y</th>\n",
       "      <th>Subject_y</th>\n",
       "      <th>Score</th>\n",
       "      <th>Subject</th>\n",
       "    </tr>\n",
       "  </thead>\n",
       "  <tbody>\n",
       "    <tr>\n",
       "      <th>0</th>\n",
       "      <td>88.0</td>\n",
       "      <td>18</td>\n",
       "      <td>Maths</td>\n",
       "      <td>M</td>\n",
       "      <td>1</td>\n",
       "      <td>82.0</td>\n",
       "      <td>Data Structue</td>\n",
       "      <td>84.0</td>\n",
       "      <td>Physics</td>\n",
       "    </tr>\n",
       "    <tr>\n",
       "      <th>1</th>\n",
       "      <td>85.0</td>\n",
       "      <td>19</td>\n",
       "      <td>Maths</td>\n",
       "      <td>M</td>\n",
       "      <td>2</td>\n",
       "      <td>79.0</td>\n",
       "      <td>Data Structue</td>\n",
       "      <td>81.0</td>\n",
       "      <td>Physics</td>\n",
       "    </tr>\n",
       "    <tr>\n",
       "      <th>2</th>\n",
       "      <td>45.0</td>\n",
       "      <td>19</td>\n",
       "      <td>Maths</td>\n",
       "      <td>M</td>\n",
       "      <td>3</td>\n",
       "      <td>39.0</td>\n",
       "      <td>Data Structue</td>\n",
       "      <td>41.0</td>\n",
       "      <td>Physics</td>\n",
       "    </tr>\n",
       "    <tr>\n",
       "      <th>3</th>\n",
       "      <td>82.0</td>\n",
       "      <td>18</td>\n",
       "      <td>Maths</td>\n",
       "      <td>M</td>\n",
       "      <td>4</td>\n",
       "      <td>76.0</td>\n",
       "      <td>Data Structue</td>\n",
       "      <td>78.0</td>\n",
       "      <td>Physics</td>\n",
       "    </tr>\n",
       "    <tr>\n",
       "      <th>4</th>\n",
       "      <td>82.0</td>\n",
       "      <td>18</td>\n",
       "      <td>Maths</td>\n",
       "      <td>F</td>\n",
       "      <td>5</td>\n",
       "      <td>76.0</td>\n",
       "      <td>Data Structue</td>\n",
       "      <td>78.0</td>\n",
       "      <td>Physics</td>\n",
       "    </tr>\n",
       "  </tbody>\n",
       "</table>\n",
       "</div>"
      ],
      "text/plain": [
       "   Score_x  Age Subject_x Sex  ID  Score_y      Subject_y  Score  Subject\n",
       "0     88.0   18     Maths   M   1     82.0  Data Structue   84.0  Physics\n",
       "1     85.0   19     Maths   M   2     79.0  Data Structue   81.0  Physics\n",
       "2     45.0   19     Maths   M   3     39.0  Data Structue   41.0  Physics\n",
       "3     82.0   18     Maths   M   4     76.0  Data Structue   78.0  Physics\n",
       "4     82.0   18     Maths   F   5     76.0  Data Structue   78.0  Physics"
      ]
     },
     "execution_count": 15,
     "metadata": {},
     "output_type": "execute_result"
    }
   ],
   "source": [
    "all_scores_merged.head()"
   ]
  },
  {
   "cell_type": "markdown",
   "id": "8d175357",
   "metadata": {},
   "source": [
    "## 5. Change Sex(M/F) Column to 1/2 for further analysis"
   ]
  },
  {
   "cell_type": "code",
   "execution_count": 16,
   "id": "c8543f11",
   "metadata": {},
   "outputs": [],
   "source": [
    "all_scores_merged['Sex'] = [1 if i=='M' else 2 for i in all_scores_merged['Sex']]"
   ]
  },
  {
   "cell_type": "code",
   "execution_count": 17,
   "id": "48c2a590",
   "metadata": {},
   "outputs": [
    {
     "data": {
      "text/html": [
       "<div>\n",
       "<style scoped>\n",
       "    .dataframe tbody tr th:only-of-type {\n",
       "        vertical-align: middle;\n",
       "    }\n",
       "\n",
       "    .dataframe tbody tr th {\n",
       "        vertical-align: top;\n",
       "    }\n",
       "\n",
       "    .dataframe thead th {\n",
       "        text-align: right;\n",
       "    }\n",
       "</style>\n",
       "<table border=\"1\" class=\"dataframe\">\n",
       "  <thead>\n",
       "    <tr style=\"text-align: right;\">\n",
       "      <th></th>\n",
       "      <th>Score_x</th>\n",
       "      <th>Age</th>\n",
       "      <th>Subject_x</th>\n",
       "      <th>Sex</th>\n",
       "      <th>ID</th>\n",
       "      <th>Score_y</th>\n",
       "      <th>Subject_y</th>\n",
       "      <th>Score</th>\n",
       "      <th>Subject</th>\n",
       "    </tr>\n",
       "  </thead>\n",
       "  <tbody>\n",
       "    <tr>\n",
       "      <th>0</th>\n",
       "      <td>88.0</td>\n",
       "      <td>18</td>\n",
       "      <td>Maths</td>\n",
       "      <td>1</td>\n",
       "      <td>1</td>\n",
       "      <td>82.0</td>\n",
       "      <td>Data Structue</td>\n",
       "      <td>84.0</td>\n",
       "      <td>Physics</td>\n",
       "    </tr>\n",
       "    <tr>\n",
       "      <th>1</th>\n",
       "      <td>85.0</td>\n",
       "      <td>19</td>\n",
       "      <td>Maths</td>\n",
       "      <td>1</td>\n",
       "      <td>2</td>\n",
       "      <td>79.0</td>\n",
       "      <td>Data Structue</td>\n",
       "      <td>81.0</td>\n",
       "      <td>Physics</td>\n",
       "    </tr>\n",
       "    <tr>\n",
       "      <th>2</th>\n",
       "      <td>45.0</td>\n",
       "      <td>19</td>\n",
       "      <td>Maths</td>\n",
       "      <td>1</td>\n",
       "      <td>3</td>\n",
       "      <td>39.0</td>\n",
       "      <td>Data Structue</td>\n",
       "      <td>41.0</td>\n",
       "      <td>Physics</td>\n",
       "    </tr>\n",
       "    <tr>\n",
       "      <th>3</th>\n",
       "      <td>82.0</td>\n",
       "      <td>18</td>\n",
       "      <td>Maths</td>\n",
       "      <td>1</td>\n",
       "      <td>4</td>\n",
       "      <td>76.0</td>\n",
       "      <td>Data Structue</td>\n",
       "      <td>78.0</td>\n",
       "      <td>Physics</td>\n",
       "    </tr>\n",
       "    <tr>\n",
       "      <th>4</th>\n",
       "      <td>82.0</td>\n",
       "      <td>18</td>\n",
       "      <td>Maths</td>\n",
       "      <td>2</td>\n",
       "      <td>5</td>\n",
       "      <td>76.0</td>\n",
       "      <td>Data Structue</td>\n",
       "      <td>78.0</td>\n",
       "      <td>Physics</td>\n",
       "    </tr>\n",
       "  </tbody>\n",
       "</table>\n",
       "</div>"
      ],
      "text/plain": [
       "   Score_x  Age Subject_x  Sex  ID  Score_y      Subject_y  Score  Subject\n",
       "0     88.0   18     Maths    1   1     82.0  Data Structue   84.0  Physics\n",
       "1     85.0   19     Maths    1   2     79.0  Data Structue   81.0  Physics\n",
       "2     45.0   19     Maths    1   3     39.0  Data Structue   41.0  Physics\n",
       "3     82.0   18     Maths    1   4     76.0  Data Structue   78.0  Physics\n",
       "4     82.0   18     Maths    2   5     76.0  Data Structue   78.0  Physics"
      ]
     },
     "execution_count": 17,
     "metadata": {},
     "output_type": "execute_result"
    }
   ],
   "source": [
    "all_scores_merged.head()"
   ]
  },
  {
   "cell_type": "markdown",
   "id": "ab3af0fb",
   "metadata": {},
   "source": [
    "## 6. Store the data in new file –ScoreFinal.csv"
   ]
  },
  {
   "cell_type": "code",
   "execution_count": 18,
   "id": "efbcdd3a",
   "metadata": {},
   "outputs": [],
   "source": [
    "all_scores_merged.to_csv('ScoreFinal.csv')"
   ]
  },
  {
   "cell_type": "markdown",
   "id": "93923752",
   "metadata": {},
   "source": [
    "## 7. Convert ethnicity to numerical value"
   ]
  },
  {
   "cell_type": "code",
   "execution_count": 19,
   "id": "450f5cb6",
   "metadata": {},
   "outputs": [],
   "source": [
    "ethinicity= pd.get_dummies(math_score['Ethinicity'])\n",
    "new_data = math_score.drop(['Ethinicity'], axis=1)\n",
    "math_score2 = pd.concat((new_data, ethinicity), axis=1)\n",
    "\n",
    "ethinicity= pd.get_dummies(ds_score['Ethinicity'])\n",
    "new_data = ds_score.drop(['Ethinicity'], axis=1)\n",
    "ds_score2 = pd.concat((new_data, ethinicity), axis=1)\n",
    "\n",
    "ethinicity= pd.get_dummies(physics_score['Ethinicity'])\n",
    "new_data = physics_score.drop(['Ethinicity'], axis=1)\n",
    "physics_score2 = pd.concat((new_data, ethinicity), axis=1)"
   ]
  },
  {
   "cell_type": "code",
   "execution_count": 20,
   "id": "62208a57",
   "metadata": {},
   "outputs": [
    {
     "data": {
      "text/html": [
       "<div>\n",
       "<style scoped>\n",
       "    .dataframe tbody tr th:only-of-type {\n",
       "        vertical-align: middle;\n",
       "    }\n",
       "\n",
       "    .dataframe tbody tr th {\n",
       "        vertical-align: top;\n",
       "    }\n",
       "\n",
       "    .dataframe thead th {\n",
       "        text-align: right;\n",
       "    }\n",
       "</style>\n",
       "<table border=\"1\" class=\"dataframe\">\n",
       "  <thead>\n",
       "    <tr style=\"text-align: right;\">\n",
       "      <th></th>\n",
       "      <th>Name</th>\n",
       "      <th>Score</th>\n",
       "      <th>Age</th>\n",
       "      <th>Subject</th>\n",
       "      <th>Sex</th>\n",
       "      <th>ID</th>\n",
       "      <th>African American</th>\n",
       "      <th>European American</th>\n",
       "      <th>Hispanic</th>\n",
       "      <th>White American</th>\n",
       "    </tr>\n",
       "  </thead>\n",
       "  <tbody>\n",
       "    <tr>\n",
       "      <th>0</th>\n",
       "      <td>AI-KYUNG CHUNG</td>\n",
       "      <td>88.0</td>\n",
       "      <td>18</td>\n",
       "      <td>Maths</td>\n",
       "      <td>M</td>\n",
       "      <td>1</td>\n",
       "      <td>0</td>\n",
       "      <td>0</td>\n",
       "      <td>0</td>\n",
       "      <td>1</td>\n",
       "    </tr>\n",
       "    <tr>\n",
       "      <th>1</th>\n",
       "      <td>ALAN HARVEY</td>\n",
       "      <td>85.0</td>\n",
       "      <td>19</td>\n",
       "      <td>Maths</td>\n",
       "      <td>M</td>\n",
       "      <td>2</td>\n",
       "      <td>0</td>\n",
       "      <td>1</td>\n",
       "      <td>0</td>\n",
       "      <td>0</td>\n",
       "    </tr>\n",
       "    <tr>\n",
       "      <th>2</th>\n",
       "      <td>ALAN REYNAUD</td>\n",
       "      <td>45.0</td>\n",
       "      <td>19</td>\n",
       "      <td>Maths</td>\n",
       "      <td>M</td>\n",
       "      <td>3</td>\n",
       "      <td>0</td>\n",
       "      <td>1</td>\n",
       "      <td>0</td>\n",
       "      <td>0</td>\n",
       "    </tr>\n",
       "    <tr>\n",
       "      <th>3</th>\n",
       "      <td>ALBERT CENDANA</td>\n",
       "      <td>82.0</td>\n",
       "      <td>18</td>\n",
       "      <td>Maths</td>\n",
       "      <td>M</td>\n",
       "      <td>4</td>\n",
       "      <td>0</td>\n",
       "      <td>0</td>\n",
       "      <td>0</td>\n",
       "      <td>1</td>\n",
       "    </tr>\n",
       "    <tr>\n",
       "      <th>4</th>\n",
       "      <td>ALBERT HOLT JR</td>\n",
       "      <td>82.0</td>\n",
       "      <td>18</td>\n",
       "      <td>Maths</td>\n",
       "      <td>F</td>\n",
       "      <td>5</td>\n",
       "      <td>0</td>\n",
       "      <td>0</td>\n",
       "      <td>0</td>\n",
       "      <td>1</td>\n",
       "    </tr>\n",
       "  </tbody>\n",
       "</table>\n",
       "</div>"
      ],
      "text/plain": [
       "             Name  Score  Age Subject Sex  ID  African American  \\\n",
       "0  AI-KYUNG CHUNG   88.0   18   Maths   M   1                 0   \n",
       "1     ALAN HARVEY   85.0   19   Maths   M   2                 0   \n",
       "2    ALAN REYNAUD   45.0   19   Maths   M   3                 0   \n",
       "3  ALBERT CENDANA   82.0   18   Maths   M   4                 0   \n",
       "4  ALBERT HOLT JR   82.0   18   Maths   F   5                 0   \n",
       "\n",
       "   European American  Hispanic  White American  \n",
       "0                  0         0               1  \n",
       "1                  1         0               0  \n",
       "2                  1         0               0  \n",
       "3                  0         0               1  \n",
       "4                  0         0               1  "
      ]
     },
     "execution_count": 20,
     "metadata": {},
     "output_type": "execute_result"
    }
   ],
   "source": [
    "math_score2.head()"
   ]
  },
  {
   "cell_type": "code",
   "execution_count": 21,
   "id": "ff23c7b8",
   "metadata": {},
   "outputs": [
    {
     "data": {
      "text/html": [
       "<div>\n",
       "<style scoped>\n",
       "    .dataframe tbody tr th:only-of-type {\n",
       "        vertical-align: middle;\n",
       "    }\n",
       "\n",
       "    .dataframe tbody tr th {\n",
       "        vertical-align: top;\n",
       "    }\n",
       "\n",
       "    .dataframe thead th {\n",
       "        text-align: right;\n",
       "    }\n",
       "</style>\n",
       "<table border=\"1\" class=\"dataframe\">\n",
       "  <thead>\n",
       "    <tr style=\"text-align: right;\">\n",
       "      <th></th>\n",
       "      <th>Name</th>\n",
       "      <th>Score</th>\n",
       "      <th>Age</th>\n",
       "      <th>Subject</th>\n",
       "      <th>Sex</th>\n",
       "      <th>ID</th>\n",
       "      <th>African American</th>\n",
       "      <th>European American</th>\n",
       "      <th>Hispanic</th>\n",
       "      <th>White American</th>\n",
       "    </tr>\n",
       "  </thead>\n",
       "  <tbody>\n",
       "    <tr>\n",
       "      <th>0</th>\n",
       "      <td>AI-KYUNG CHUNG</td>\n",
       "      <td>84.0</td>\n",
       "      <td>18</td>\n",
       "      <td>Physics</td>\n",
       "      <td>M</td>\n",
       "      <td>1</td>\n",
       "      <td>0</td>\n",
       "      <td>0</td>\n",
       "      <td>0</td>\n",
       "      <td>1</td>\n",
       "    </tr>\n",
       "    <tr>\n",
       "      <th>1</th>\n",
       "      <td>ALAN HARVEY</td>\n",
       "      <td>81.0</td>\n",
       "      <td>19</td>\n",
       "      <td>Physics</td>\n",
       "      <td>M</td>\n",
       "      <td>2</td>\n",
       "      <td>0</td>\n",
       "      <td>1</td>\n",
       "      <td>0</td>\n",
       "      <td>0</td>\n",
       "    </tr>\n",
       "    <tr>\n",
       "      <th>2</th>\n",
       "      <td>ALAN REYNAUD</td>\n",
       "      <td>41.0</td>\n",
       "      <td>19</td>\n",
       "      <td>Physics</td>\n",
       "      <td>M</td>\n",
       "      <td>3</td>\n",
       "      <td>0</td>\n",
       "      <td>1</td>\n",
       "      <td>0</td>\n",
       "      <td>0</td>\n",
       "    </tr>\n",
       "    <tr>\n",
       "      <th>3</th>\n",
       "      <td>ALBERT CENDANA</td>\n",
       "      <td>78.0</td>\n",
       "      <td>18</td>\n",
       "      <td>Physics</td>\n",
       "      <td>M</td>\n",
       "      <td>4</td>\n",
       "      <td>0</td>\n",
       "      <td>0</td>\n",
       "      <td>0</td>\n",
       "      <td>1</td>\n",
       "    </tr>\n",
       "    <tr>\n",
       "      <th>4</th>\n",
       "      <td>ALBERT HOLT JR</td>\n",
       "      <td>78.0</td>\n",
       "      <td>18</td>\n",
       "      <td>Physics</td>\n",
       "      <td>F</td>\n",
       "      <td>5</td>\n",
       "      <td>0</td>\n",
       "      <td>0</td>\n",
       "      <td>0</td>\n",
       "      <td>1</td>\n",
       "    </tr>\n",
       "  </tbody>\n",
       "</table>\n",
       "</div>"
      ],
      "text/plain": [
       "             Name  Score  Age  Subject Sex  ID  African American  \\\n",
       "0  AI-KYUNG CHUNG   84.0   18  Physics   M   1                 0   \n",
       "1     ALAN HARVEY   81.0   19  Physics   M   2                 0   \n",
       "2    ALAN REYNAUD   41.0   19  Physics   M   3                 0   \n",
       "3  ALBERT CENDANA   78.0   18  Physics   M   4                 0   \n",
       "4  ALBERT HOLT JR   78.0   18  Physics   F   5                 0   \n",
       "\n",
       "   European American  Hispanic  White American  \n",
       "0                  0         0               1  \n",
       "1                  1         0               0  \n",
       "2                  1         0               0  \n",
       "3                  0         0               1  \n",
       "4                  0         0               1  "
      ]
     },
     "execution_count": 21,
     "metadata": {},
     "output_type": "execute_result"
    }
   ],
   "source": [
    "physics_score2.head()"
   ]
  },
  {
   "cell_type": "code",
   "execution_count": 22,
   "id": "95fb8d4a",
   "metadata": {},
   "outputs": [
    {
     "data": {
      "text/html": [
       "<div>\n",
       "<style scoped>\n",
       "    .dataframe tbody tr th:only-of-type {\n",
       "        vertical-align: middle;\n",
       "    }\n",
       "\n",
       "    .dataframe tbody tr th {\n",
       "        vertical-align: top;\n",
       "    }\n",
       "\n",
       "    .dataframe thead th {\n",
       "        text-align: right;\n",
       "    }\n",
       "</style>\n",
       "<table border=\"1\" class=\"dataframe\">\n",
       "  <thead>\n",
       "    <tr style=\"text-align: right;\">\n",
       "      <th></th>\n",
       "      <th>Name</th>\n",
       "      <th>Score</th>\n",
       "      <th>Age</th>\n",
       "      <th>Subject</th>\n",
       "      <th>Sex</th>\n",
       "      <th>ID</th>\n",
       "      <th>African American</th>\n",
       "      <th>European American</th>\n",
       "      <th>Hispanic</th>\n",
       "      <th>White American</th>\n",
       "    </tr>\n",
       "  </thead>\n",
       "  <tbody>\n",
       "    <tr>\n",
       "      <th>0</th>\n",
       "      <td>AI-KYUNG CHUNG</td>\n",
       "      <td>82.0</td>\n",
       "      <td>18</td>\n",
       "      <td>Data Structue</td>\n",
       "      <td>M</td>\n",
       "      <td>1</td>\n",
       "      <td>0</td>\n",
       "      <td>0</td>\n",
       "      <td>0</td>\n",
       "      <td>1</td>\n",
       "    </tr>\n",
       "    <tr>\n",
       "      <th>1</th>\n",
       "      <td>ALAN HARVEY</td>\n",
       "      <td>79.0</td>\n",
       "      <td>19</td>\n",
       "      <td>Data Structue</td>\n",
       "      <td>M</td>\n",
       "      <td>2</td>\n",
       "      <td>0</td>\n",
       "      <td>1</td>\n",
       "      <td>0</td>\n",
       "      <td>0</td>\n",
       "    </tr>\n",
       "    <tr>\n",
       "      <th>2</th>\n",
       "      <td>ALAN REYNAUD</td>\n",
       "      <td>39.0</td>\n",
       "      <td>19</td>\n",
       "      <td>Data Structue</td>\n",
       "      <td>M</td>\n",
       "      <td>3</td>\n",
       "      <td>0</td>\n",
       "      <td>1</td>\n",
       "      <td>0</td>\n",
       "      <td>0</td>\n",
       "    </tr>\n",
       "    <tr>\n",
       "      <th>3</th>\n",
       "      <td>ALBERT CENDANA</td>\n",
       "      <td>76.0</td>\n",
       "      <td>18</td>\n",
       "      <td>Data Structue</td>\n",
       "      <td>M</td>\n",
       "      <td>4</td>\n",
       "      <td>0</td>\n",
       "      <td>0</td>\n",
       "      <td>0</td>\n",
       "      <td>1</td>\n",
       "    </tr>\n",
       "    <tr>\n",
       "      <th>4</th>\n",
       "      <td>ALBERT HOLT JR</td>\n",
       "      <td>76.0</td>\n",
       "      <td>18</td>\n",
       "      <td>Data Structue</td>\n",
       "      <td>F</td>\n",
       "      <td>5</td>\n",
       "      <td>0</td>\n",
       "      <td>0</td>\n",
       "      <td>0</td>\n",
       "      <td>1</td>\n",
       "    </tr>\n",
       "  </tbody>\n",
       "</table>\n",
       "</div>"
      ],
      "text/plain": [
       "             Name  Score  Age        Subject Sex  ID  African American  \\\n",
       "0  AI-KYUNG CHUNG   82.0   18  Data Structue   M   1                 0   \n",
       "1     ALAN HARVEY   79.0   19  Data Structue   M   2                 0   \n",
       "2    ALAN REYNAUD   39.0   19  Data Structue   M   3                 0   \n",
       "3  ALBERT CENDANA   76.0   18  Data Structue   M   4                 0   \n",
       "4  ALBERT HOLT JR   76.0   18  Data Structue   F   5                 0   \n",
       "\n",
       "   European American  Hispanic  White American  \n",
       "0                  0         0               1  \n",
       "1                  1         0               0  \n",
       "2                  1         0               0  \n",
       "3                  0         0               1  \n",
       "4                  0         0               1  "
      ]
     },
     "execution_count": 22,
     "metadata": {},
     "output_type": "execute_result"
    }
   ],
   "source": [
    "ds_score2.head()"
   ]
  },
  {
   "cell_type": "markdown",
   "id": "db1cf743",
   "metadata": {},
   "source": [
    "## 8. Fill the missing score for a student to the average of the class"
   ]
  },
  {
   "cell_type": "code",
   "execution_count": 23,
   "id": "59f1d531",
   "metadata": {},
   "outputs": [
    {
     "data": {
      "text/plain": [
       "Name          0\n",
       "Score         3\n",
       "Age           0\n",
       "Ethinicity    0\n",
       "Subject       0\n",
       "Sex           0\n",
       "ID            0\n",
       "dtype: int64"
      ]
     },
     "execution_count": 23,
     "metadata": {},
     "output_type": "execute_result"
    }
   ],
   "source": [
    "math_score.isnull().sum()"
   ]
  },
  {
   "cell_type": "code",
   "execution_count": 24,
   "id": "4068392c",
   "metadata": {},
   "outputs": [
    {
     "data": {
      "text/plain": [
       "Name          0\n",
       "Score         8\n",
       "Age           0\n",
       "Ethinicity    0\n",
       "Subject       0\n",
       "Sex           0\n",
       "ID            0\n",
       "dtype: int64"
      ]
     },
     "execution_count": 24,
     "metadata": {},
     "output_type": "execute_result"
    }
   ],
   "source": [
    "ds_score.isnull().sum()"
   ]
  },
  {
   "cell_type": "code",
   "execution_count": 25,
   "id": "2cdcbf24",
   "metadata": {},
   "outputs": [
    {
     "data": {
      "text/plain": [
       "Name          0\n",
       "Score         6\n",
       "Age           0\n",
       "Ethinicity    0\n",
       "Subject       0\n",
       "Sex           0\n",
       "ID            0\n",
       "dtype: int64"
      ]
     },
     "execution_count": 25,
     "metadata": {},
     "output_type": "execute_result"
    }
   ],
   "source": [
    "physics_score.isnull().sum()"
   ]
  },
  {
   "cell_type": "code",
   "execution_count": 26,
   "id": "1cff6f2a",
   "metadata": {},
   "outputs": [
    {
     "name": "stderr",
     "output_type": "stream",
     "text": [
      "C:\\Users\\bhave\\AppData\\Local\\Temp/ipykernel_4556/946556448.py:1: FutureWarning: Dropping of nuisance columns in DataFrame reductions (with 'numeric_only=None') is deprecated; in a future version this will raise TypeError.  Select only valid columns before calling the reduction.\n",
      "  math_score.fillna(math_score.mean(), inplace=True)\n",
      "C:\\Users\\bhave\\AppData\\Local\\Temp/ipykernel_4556/946556448.py:2: FutureWarning: Dropping of nuisance columns in DataFrame reductions (with 'numeric_only=None') is deprecated; in a future version this will raise TypeError.  Select only valid columns before calling the reduction.\n",
      "  ds_score.fillna(ds_score.mean(), inplace=True)\n",
      "C:\\Users\\bhave\\AppData\\Local\\Temp/ipykernel_4556/946556448.py:3: FutureWarning: Dropping of nuisance columns in DataFrame reductions (with 'numeric_only=None') is deprecated; in a future version this will raise TypeError.  Select only valid columns before calling the reduction.\n",
      "  physics_score.fillna(physics_score.mean(), inplace=True)\n"
     ]
    }
   ],
   "source": [
    "math_score.fillna(math_score.mean(), inplace=True)\n",
    "ds_score.fillna(ds_score.mean(), inplace=True)\n",
    "physics_score.fillna(physics_score.mean(), inplace=True)"
   ]
  },
  {
   "cell_type": "code",
   "execution_count": 27,
   "id": "9eca5eca",
   "metadata": {},
   "outputs": [
    {
     "data": {
      "text/plain": [
       "Name          0\n",
       "Score         0\n",
       "Age           0\n",
       "Ethinicity    0\n",
       "Subject       0\n",
       "Sex           0\n",
       "ID            0\n",
       "dtype: int64"
      ]
     },
     "execution_count": 27,
     "metadata": {},
     "output_type": "execute_result"
    }
   ],
   "source": [
    "math_score.isnull().sum()"
   ]
  },
  {
   "cell_type": "code",
   "execution_count": 28,
   "id": "fdec7271",
   "metadata": {},
   "outputs": [
    {
     "data": {
      "text/plain": [
       "Name          0\n",
       "Score         0\n",
       "Age           0\n",
       "Ethinicity    0\n",
       "Subject       0\n",
       "Sex           0\n",
       "ID            0\n",
       "dtype: int64"
      ]
     },
     "execution_count": 28,
     "metadata": {},
     "output_type": "execute_result"
    }
   ],
   "source": [
    "physics_score.isnull().sum()"
   ]
  },
  {
   "cell_type": "code",
   "execution_count": 29,
   "id": "83c6c248",
   "metadata": {},
   "outputs": [
    {
     "data": {
      "text/plain": [
       "Name          0\n",
       "Score         0\n",
       "Age           0\n",
       "Ethinicity    0\n",
       "Subject       0\n",
       "Sex           0\n",
       "ID            0\n",
       "dtype: int64"
      ]
     },
     "execution_count": 29,
     "metadata": {},
     "output_type": "execute_result"
    }
   ],
   "source": [
    "ds_score.isnull().sum()"
   ]
  },
  {
   "cell_type": "code",
   "execution_count": null,
   "id": "c98103e8",
   "metadata": {},
   "outputs": [],
   "source": []
  }
 ],
 "metadata": {
  "kernelspec": {
   "display_name": "Python 3 (ipykernel)",
   "language": "python",
   "name": "python3"
  },
  "language_info": {
   "codemirror_mode": {
    "name": "ipython",
    "version": 3
   },
   "file_extension": ".py",
   "mimetype": "text/x-python",
   "name": "python",
   "nbconvert_exporter": "python",
   "pygments_lexer": "ipython3",
   "version": "3.9.7"
  }
 },
 "nbformat": 4,
 "nbformat_minor": 5
}
